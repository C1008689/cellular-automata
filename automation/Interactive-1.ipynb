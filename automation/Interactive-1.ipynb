{
 "cells": [
  {
   "cell_type": "markdown",
   "metadata": {
    "isInteractiveWindowMessageCell": true
   },
   "source": [
    "Connected to Python 3.9.8"
   ]
  },
  {
   "cell_type": "code",
   "execution_count": 1,
   "metadata": {},
   "outputs": [
    {
     "data": {
      "image/png": "[encoded data removed]",
      "text/plain": [
       "<Figure size 640x480 with 3 Axes>"
      ]
     },
     "metadata": {},
     "output_type": "display_data"
    }
   ],
   "source": [
    "import numpy as np\n",
    "import matplotlib.pyplot as plt\n",
    "from matplotlib.widgets import Slider, Button\n",
    "from matplotlib.animation import FuncAnimation\n",
    "\n",
    "def conways_rule(state, neighbors):\n",
    "    alive_neighbors = sum(neighbors)\n",
    "    if state == 1 and alive_neighbors < 2:\n",
    "        return 0\n",
    "    elif state == 1 and alive_neighbors > 3:\n",
    "        return 0\n",
    "    elif state == 0 and alive_neighbors == 3:\n",
    "        return 1\n",
    "    else:\n",
    "        return state\n",
    "\n",
    "class CellularAutomaton:\n",
    "    def __init__(self, rows, cols, rule_func, initial_state=None, cmap='viridis'):\n",
    "        self.rows = rows\n",
    "        self.cols = cols\n",
    "        self.grid = np.random.choice([0, 1], size=(rows, cols)) if initial_state is None else np.array(initial_state)\n",
    "        self.rule_func = rule_func\n",
    "        self.cmap = cmap\n",
    "\n",
    "    def update(self):\n",
    "        new_grid = np.copy(self.grid)\n",
    "        for i in range(self.rows):\n",
    "            for j in range(self.cols):\n",
    "                state = self.grid[i, j]\n",
    "                neighbors = self.get_neighbors(i, j)\n",
    "                new_grid[i, j] = self.rule_func(state, neighbors)\n",
    "        self.grid = new_grid\n",
    "\n",
    "    def get_neighbors(self, row, col):\n",
    "        neighbors = self.grid[max(row-1, 0):min(row+2, self.rows),\n",
    "                              max(col-1, 0):min(col+2, self.cols)].flatten()\n",
    "        return np.delete(neighbors, len(neighbors)//2)\n",
    "\n",
    "    def animate(self, steps, interval=100):\n",
    "        fig, ax = plt.subplots()\n",
    "        plt.subplots_adjust(left=0.1, bottom=0.35)\n",
    "        img = ax.imshow(self.grid, interpolation='nearest', cmap=self.cmap)\n",
    "\n",
    "        ax_scale = plt.axes([0.1, 0.2, 0.65, 0.03], facecolor='lightgoldenrodyellow')\n",
    "        scale_slider = Slider(ax_scale, 'Scale', 1, 10, valinit=1, valstep=1)\n",
    "\n",
    "        ax_button = plt.axes([0.8, 0.2, 0.1, 0.04])\n",
    "        scale_button = Button(ax_button, 'Apply Scale')\n",
    "\n",
    "        def update_frame(*args):\n",
    "            self.update()\n",
    "            img.set_data(self.grid)\n",
    "            return img,\n",
    "\n",
    "        def apply_scale(event):\n",
    "            scale_factor = int(scale_slider.val)\n",
    "            self.reset(scale_factor * 10, scale_factor * 10)  # Adjust base size as needed\n",
    "            img.set_data(self.grid)\n",
    "            fig.canvas.draw_idle()\n",
    "\n",
    "        scale_button.on_clicked(apply_scale)\n",
    "        ani = FuncAnimation(fig, update_frame, frames=steps, interval=interval, blit=True)\n",
    "        plt.show()\n",
    "\n",
    "    def reset(self, new_rows, new_cols):\n",
    "        self.rows = new_rows\n",
    "        self.cols = new_cols\n",
    "        self.grid = np.random.choice([0, 1], size=(new_rows, new_cols))\n",
    "\n",
    "# Initialize and run the cellular automaton\n",
    "automaton = CellularAutomaton(50, 50, conways_rule, cmap='plasma')\n",
    "automaton.animate(100)"
   ]
  }
 ],
 "metadata": {
  "kernelspec": {
   "display_name": "Python 3",
   "language": "python",
   "name": "python3"
  },
  "language_info": {
   "name": "python",
   "version": "3.9.8"
  }
 },
 "nbformat": 4,
 "nbformat_minor": 2
}
